{
 "cells": [
  {
   "cell_type": "markdown",
   "id": "68c5130b",
   "metadata": {},
   "source": [
    "## 1. Configuation of Processor (CPU/GPU)"
   ]
  },
  {
   "cell_type": "code",
   "execution_count": null,
   "id": "8383d88d",
   "metadata": {},
   "outputs": [
    {
     "ename": "",
     "evalue": "",
     "output_type": "error",
     "traceback": [
      "\u001b[1;31m内核无法启动，因为 Python 环境“Python 3.10.11”不再可用。请考虑选择另一个内核或刷新 Python 环境列表。"
     ]
    }
   ],
   "source": [
    "import torch\n",
    "import torch.nn as nn\n",
    "import torchvision\n",
    "from torchvision import datasets, transforms\n",
    "import os, PIL, pathlib\n",
    "# import numpy as np\n",
    "# print(np.__version__)\n",
    "\n",
    "device = torch.device(\"cuda\" if torch.cuda.is_available() else \"cpu\")\n",
    "device\n"
   ]
  },
  {
   "cell_type": "code",
   "execution_count": 24,
   "id": "e75e52fd",
   "metadata": {},
   "outputs": [
    {
     "name": "stdout",
     "output_type": "stream",
     "text": [
      "className: ['0', '1', '2', '3', '4', '5', '6', '7', '8', '9']\n",
      "Size training set: 60000\n",
      "Size test set: 10000\n",
      "X: torch.Size([100, 1, 28, 28])\n",
      "y: torch.Size([100]) torch.int64\n"
     ]
    }
   ],
   "source": [
    "transform = transforms.ToTensor()\n",
    "\n",
    "train_dataset = datasets.MNIST(\n",
    "    root=\"./data\",\n",
    "    train=True,\n",
    "    transform=transform,\n",
    "    download=True\n",
    ")\n",
    "\n",
    "test_dataset = datasets.MNIST(\n",
    "    root=\"./data\",\n",
    "    train=False,\n",
    "    transform=transform,\n",
    "    download=True\n",
    ")\n",
    "\n",
    "classNames = [str(i) for i in range(10)]\n",
    "\n",
    "print(\"className:\", classNames)\n",
    "print(\"Size training set:\", len(train_dataset))\n",
    "print(\"Size test set:\", len(test_dataset))\n",
    "\n",
    "batch_size = 100\n",
    "\n",
    "train_lr=torch.utils.data.DataLoader(train_dataset,batch_size=batch_size,shuffle=True,num_workers=1)\n",
    "test_lr=torch.utils.data.DataLoader(test_dataset,batch_size=batch_size,shuffle=True,num_workers=1)\n",
    "\n",
    "for X,y in test_lr:\n",
    "    print(\"X:\",X.shape)\n",
    "    print(\"y:\",y.shape,y.dtype)\n",
    "    break"
   ]
  },
  {
   "cell_type": "code",
   "execution_count": 25,
   "id": "6d52dc36",
   "metadata": {},
   "outputs": [
    {
     "data": {
      "text/plain": [
       "ConvNetwork(\n",
       "  (conv1): Conv2d(1, 8, kernel_size=(3, 3), stride=(1, 1))\n",
       "  (bn1): BatchNorm2d(8, eps=1e-05, momentum=0.1, affine=True, track_running_stats=True)\n",
       "  (conv2): Conv2d(8, 16, kernel_size=(3, 3), stride=(1, 1))\n",
       "  (bn2): BatchNorm2d(16, eps=1e-05, momentum=0.1, affine=True, track_running_stats=True)\n",
       "  (pool): MaxPool2d(kernel_size=3, stride=3, padding=0, dilation=1, ceil_mode=False)\n",
       "  (conv3): Conv2d(16, 32, kernel_size=(3, 3), stride=(1, 1))\n",
       "  (bn3): BatchNorm2d(32, eps=1e-05, momentum=0.1, affine=True, track_running_stats=True)\n",
       "  (fc1): Linear(in_features=288, out_features=10, bias=True)\n",
       ")"
      ]
     },
     "execution_count": 25,
     "metadata": {},
     "output_type": "execute_result"
    }
   ],
   "source": [
    "import torch.nn.functional as F\n",
    "\n",
    "class ConvNetwork(nn.Module):\n",
    "    def __init__ (self):\n",
    "        super(ConvNetwork, self).__init__()\n",
    "        self.conv1 = nn.Conv2d(in_channels=1, out_channels=8, kernel_size=3, stride=1, padding=0)\n",
    "        self.bn1 = nn.BatchNorm2d(8)\n",
    "        self.conv2 = nn.Conv2d(in_channels=8, out_channels=16, kernel_size=3, stride=1, padding=0)\n",
    "        self.bn2 = nn.BatchNorm2d(16)\n",
    "        self.pool = nn.MaxPool2d(kernel_size=2, stride=2, padding=0)\n",
    "        self.conv3 = nn.Conv2d(in_channels=16, out_channels=32, kernel_size=3, stride=1, padding=0)\n",
    "        self.bn3 = nn.BatchNorm2d(32)\n",
    "        self.pool = nn.MaxPool2d(kernel_size=3, stride=3, padding=0)\n",
    "        self.fc1 = nn.Linear(32 * 3 * 3, len(classNames))\n",
    "\n",
    "    def forward(self, x):\n",
    "        x=F.relu(self.bn1(self.conv1(x)))\n",
    "        x=F.relu(self.bn2(self.conv2(x)))\n",
    "        x=self.pool(x)\n",
    "        x=F.relu(self.bn3(self.conv3(x)))\n",
    "        x=self.pool(x)\n",
    "        x=x.view(-1, 32 * 3 * 3)\n",
    "        x=self.fc1(x)\n",
    "        return x\n",
    "    \n",
    "model=ConvNetwork().to(device)\n",
    "model\n"
   ]
  },
  {
   "cell_type": "code",
   "execution_count": 26,
   "id": "046f1bb2",
   "metadata": {},
   "outputs": [],
   "source": [
    "loss_function=nn.CrossEntropyLoss()\n",
    "learn_rate=1e-4\n",
    "opt=torch.optim.SGD(model.parameters(),lr=learn_rate)"
   ]
  },
  {
   "cell_type": "code",
   "execution_count": null,
   "id": "4b3c50fe",
   "metadata": {},
   "outputs": [],
   "source": [
    "def train(dataloader, model, loss_fn, optimizer):\n",
    "    size=len(dataloader.dataset)\n",
    "    num_batches=len(dataloader)\n",
    "\n",
    "    train_loss, train_acc=0,0\n",
    "\n",
    "    for X,y in dataloader:\n",
    "        X,y=X.to(device),y.to(device)\n",
    "\n",
    "        pred=model(X)\n",
    "        loss=loss_fn(pred,y)\n",
    "\n",
    "        optimizer.zero_grad()\n",
    "        loss.backward()\n",
    "        optimizer.step()\n",
    "\n",
    "        train_loss+=loss.item()\n",
    "        correct=(pred.argmax(1)==y).type(torch.float).sum().item()\n",
    "        train_acc+=correct\n",
    "\n",
    "    train_loss/=num_batches\n",
    "    train_acc/=size\n",
    "\n",
    "    return train_loss, train_acc"
   ]
  },
  {
   "cell_type": "code",
   "execution_count": 27,
   "id": "f1fec658",
   "metadata": {},
   "outputs": [],
   "source": [
    "def test(dataloader,model,loss_fn):\n",
    "    size=len(dataloader.dataset)\n",
    "    num_batches=len(dataloader)\n",
    "    test_loss, test_acc=0,0\n",
    "\n",
    "    with torch.no_grad():\n",
    "        for imgs, target in dataloader:\n",
    "            imgs, target=imgs.to(device), target.to(device)\n",
    "            \n",
    "            pred=model(imgs)\n",
    "            test_loss=loss_fn(pred,target)\n",
    "\n",
    "            test_loss+=test_loss.item()\n",
    "            correct=(pred.argmax(1)==target).type(torch.float).sum().item()\n",
    "            test_acc+=correct\n",
    "\n",
    "    test_loss/=num_batches\n",
    "    test_acc/=size\n",
    "\n",
    "    return test_loss, test_acc\n",
    "    \n"
   ]
  },
  {
   "cell_type": "code",
   "execution_count": null,
   "id": "23928b74",
   "metadata": {},
   "outputs": [
    {
     "ename": "NameError",
     "evalue": "name 'train_loader' is not defined",
     "output_type": "error",
     "traceback": [
      "\u001b[31m---------------------------------------------------------------------------\u001b[39m",
      "\u001b[31mNameError\u001b[39m                                 Traceback (most recent call last)",
      "\u001b[36mCell\u001b[39m\u001b[36m \u001b[39m\u001b[32mIn[28]\u001b[39m\u001b[32m, line 9\u001b[39m\n\u001b[32m      7\u001b[39m \u001b[38;5;28;01mfor\u001b[39;00m epoch \u001b[38;5;129;01min\u001b[39;00m \u001b[38;5;28mrange\u001b[39m(epochs):\n\u001b[32m      8\u001b[39m     model.train()\n\u001b[32m----> \u001b[39m\u001b[32m9\u001b[39m     epoch_train_loss, epoch_train_acc=train(train_loader, model, loss_function, opt)\n",
      "\u001b[31mNameError\u001b[39m: name 'train_loader' is not defined"
     ]
    }
   ],
   "source": [
    "epochs=5\n",
    "train_loss=[]\n",
    "train_acc=[]\n",
    "test_loss=[]\n",
    "test_acc=[]\n",
    "\n",
    "for epoch in range(epochs):\n",
    "    model.train()\n",
    "    epoch_train_loss, epoch_train_acc=train(train_lr, model, loss_function, opt)\n",
    "\n",
    "    model.eval()\n",
    "    epoch_test_loss, epoch_test_acc=test(test_lr, model, loss_function)\n",
    "\n",
    "    train_loss.append(epoch_train_loss)\n",
    "    train_acc.append(epoch_train_acc)\n",
    "    test_loss.append(epoch_test_loss)\n",
    "    test_acc.append(epoch_test_acc)\n",
    "\n",
    "    template=\"Epoch {}/{}: Train Loss {:.4f}, Train Acc {:.4f}, Test Loss {:.4f}, Test Acc {:.4f}\"\n",
    "    print(template.format(epoch+1, epochs, epoch_train_loss, epoch_train_acc, epoch_test_loss, epoch_test_acc))\n",
    "print(\"Done!\")"
   ]
  },
  {
   "cell_type": "code",
   "execution_count": null,
   "id": "78ba7796",
   "metadata": {},
   "outputs": [],
   "source": [
    "import matplotlib.pyplot as plt\n",
    "import warnings\n",
    "warnings.filterwarnings(\"ignore\")\n",
    "plt.rcParams['font.sans-serif']=['SimHei'] \n",
    "plt.rcParams['axes.unicode_minus']=False\n",
    "plt.rcParams['figure.dpi']=100\n",
    "\n",
    "epochs_range=range(1,epochs+1)\n",
    "\n",
    "plt.figure(figsize=(12,4))\n",
    "plt.subplot(1,2,1)\n",
    "plt.plot(epochs_range,train_loss,label='Train Loss')\n",
    "plt.plot(epochs_range,test_loss,label='Test Loss')\n",
    "plt.legend()\n",
    "plt.title('Loss of Train and Test')\n",
    "\n",
    "plt.subplot(1,2,2)\n",
    "plt.plot(epochs_range,train_acc,label='Train Acc')\n",
    "plt.plot(epochs_range,test_acc,label='Test Acc')\n",
    "plt.legend()\n",
    "plt.title('Accuracy of Train and Test')\n",
    "plt.show()"
   ]
  }
 ],
 "metadata": {
  "kernelspec": {
   "display_name": ".venv (3.10.11)",
   "language": "python",
   "name": "python3"
  },
  "language_info": {
   "codemirror_mode": {
    "name": "ipython",
    "version": 3
   },
   "file_extension": ".py",
   "mimetype": "text/x-python",
   "name": "python",
   "nbconvert_exporter": "python",
   "pygments_lexer": "ipython3",
   "version": "3.10.11"
  }
 },
 "nbformat": 4,
 "nbformat_minor": 5
}
